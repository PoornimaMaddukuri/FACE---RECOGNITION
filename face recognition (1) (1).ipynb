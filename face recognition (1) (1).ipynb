{
 "cells": [
  {
   "cell_type": "code",
   "execution_count": 1,
   "id": "153c7a03-37e2-41eb-a597-6c544925d5db",
   "metadata": {},
   "outputs": [],
   "source": [
    "import cv2\n",
    "import numpy as np\n",
    "import face_recognition as fr\n"
   ]
  },
  {
   "cell_type": "code",
   "execution_count": 2,
   "id": "612a3897-6039-4cdd-92a9-1eef5350a74c",
   "metadata": {},
   "outputs": [],
   "source": [
    "video_capture = cv2.VideoCapture(0)"
   ]
  },
  {
   "cell_type": "code",
   "execution_count": 3,
   "id": "dfeb49bb-042b-4894-a104-d145c1e73eb8",
   "metadata": {},
   "outputs": [],
   "source": [
    "image = fr.load_image_file('poornima.jpg')"
   ]
  },
  {
   "cell_type": "code",
   "execution_count": 4,
   "id": "6e4a5ba8-11eb-426a-a89c-cb4ed1fbbec8",
   "metadata": {},
   "outputs": [],
   "source": [
    "image_face_encoding = fr.face_encodings(image)[0]"
   ]
  },
  {
   "cell_type": "code",
   "execution_count": 5,
   "id": "d04bb2f5-45e8-4d46-9d09-b45c468f97b9",
   "metadata": {},
   "outputs": [],
   "source": [
    "known_face_encodings = [image_face_encoding]"
   ]
  },
  {
   "cell_type": "code",
   "execution_count": 6,
   "id": "3b69be7e-b12d-438b-b04a-3f9435da35ba",
   "metadata": {},
   "outputs": [],
   "source": [
    "known_face_names = ['poornima']\n"
   ]
  },
  {
   "cell_type": "code",
   "execution_count": null,
   "id": "274c0d58-43c8-461e-b19b-f15122881764",
   "metadata": {},
   "outputs": [],
   "source": [
    "while True:\n",
    "    \n",
    "    ret, frame = video_capture.read()\n",
    "\n",
    "    rgb_frame = frame[:, :, ::-1]\n",
    "\n",
    "    fc_locations = fr.face_locations(rgb_frame)\n",
    "    fc_encodings = fr.face_encodings(rgb_frame, fc_locations)\n",
    "    \n",
    "    for (top, right, bottom, left), face_encoding in zip(fc_locations, fc_encodings):\n",
    "        matches= fr.compare_faces(known_face_encodings, face_encoding)\n",
    "        name = \"unknown\"\n",
    "\n",
    "        fc_distances = fr.face_distance(known_face_encodings, face_encoding)\n",
    "        match_index = np.argmin(fc_distances)\n",
    "\n",
    "        if matches[match_index]:\n",
    "            name = known_face_names[match_index]\n",
    "\n",
    "        cv2.rectangle(frame, (left, top), (right, bottom), (0, 0, 255), 2)\n",
    "        cv2.rectangle(frame, (left, bottom - 35), (right, bottom), (0, 0, 255), cv2.FILLED)\n",
    "\n",
    "        font = cv2.FONT_HERSHEY_SIMPLEX\n",
    "        cv2.putText(frame, name, (left + 6, bottom - 6), font, 1.0, (255, 255, 255), 1)\n",
    "\n",
    "\n",
    "    cv2.imshow(\"Face detection system\", frame)\n",
    "\n",
    "    if cv2.waitKey(1) & 0xFF == ord('q'):\n",
    "        break\n",
    "\n",
    "video_capture.release()\n",
    "cv2.destroyAllWindows()"
   ]
  },
  {
   "cell_type": "code",
   "execution_count": null,
   "id": "7a3fc18f-c775-4e51-af1b-4af62f631d9a",
   "metadata": {},
   "outputs": [],
   "source": []
  }
 ],
 "metadata": {
  "kernelspec": {
   "display_name": "Python 3",
   "language": "python",
   "name": "python3"
  },
  "language_info": {
   "codemirror_mode": {
    "name": "ipython",
    "version": 3
   },
   "file_extension": ".py",
   "mimetype": "text/x-python",
   "name": "python",
   "nbconvert_exporter": "python",
   "pygments_lexer": "ipython3",
   "version": "3.10.0"
  }
 },
 "nbformat": 4,
 "nbformat_minor": 5
}
